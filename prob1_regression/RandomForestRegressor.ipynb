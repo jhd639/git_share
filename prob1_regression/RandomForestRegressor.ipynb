{
 "cells": [
  {
   "cell_type": "code",
   "execution_count": 1,
   "metadata": {},
   "outputs": [],
   "source": [
    "import numpy as np\n",
    "import pandas as pd\n",
    "from sklearn import preprocessing\n",
    "from sklearn.linear_model import LinearRegression\n",
    "from sklearn.preprocessing import Imputer\n",
    "from sklearn.pipeline import Pipeline\n",
    "from sklearn.preprocessing import StandardScaler\n",
    "from sklearn.preprocessing import MinMaxScaler\n",
    "from sklearn.model_selection import train_test_split\n",
    "from sklearn.linear_model import Ridge\n",
    "prob1=pd.read_csv(\"C:/Users/maple/Desktop/제조공정 데이터_수정.csv\",engine='python')"
   ]
  },
  {
   "cell_type": "code",
   "execution_count": 2,
   "metadata": {},
   "outputs": [],
   "source": [
    "from sklearn.decomposition import PCA"
   ]
  },
  {
   "cell_type": "code",
   "execution_count": 3,
   "metadata": {},
   "outputs": [],
   "source": [
    "X_train=prob1.iloc[:20000,1:-2]\n",
    "Y1_train=prob1.iloc[:20000,-2]\n",
    "Y2_train=prob1.iloc[:20000,-1]\n",
    "X_test=prob1.iloc[20000:,1:-2]\n",
    "Y1_test=prob1.iloc[20000:,-2]\n",
    "Y2_test=prob1.iloc[20000:,-1]"
   ]
  },
  {
   "cell_type": "code",
   "execution_count": 4,
   "metadata": {},
   "outputs": [],
   "source": [
    "from sklearn.tree import DecisionTreeRegressor\n",
    "from sklearn.ensemble import RandomForestRegressor,ExtraTreesRegressor,AdaBoostRegressor,GradientBoostingRegressor"
   ]
  },
  {
   "cell_type": "code",
   "execution_count": 5,
   "metadata": {},
   "outputs": [],
   "source": [
    "scaler=StandardScaler()\n",
    "X_train=scaler.fit_transform(X_train)\n",
    "X_test=scaler.fit_transform(X_test)\n",
    "\n",
    "#pca=PCA(n_components=10)\n",
    "#X_train=pca.fit_transform(X_train)\n",
    "#X_test=pca.fit_transform(X_test)"
   ]
  },
  {
   "cell_type": "code",
   "execution_count": 6,
   "metadata": {},
   "outputs": [],
   "source": [
    "#model1 = DecisionTreeRegressor(random_state=1,min_samples_leaf=2,max_depth=8)\n",
    "#model2 = DecisionTreeRegressor(random_state=1,min_samples_leaf=2,max_depth=8)\n",
    "model1 = RandomForestRegressor(n_estimators=50,min_samples_leaf=10,max_depth=10)\n",
    "model2 = RandomForestRegressor(n_estimators=50,min_samples_leaf=10,max_depth=10)\n",
    "#model1 = ExtraTreesRegressor(n_estimators=100,min_samples_leaf=6,max_depth=3)\n",
    "#model2 = ExtraTreesRegressor(n_estimators=100,min_samples_leaf=6,max_depth=3)\n",
    "#model=AdaBoostRegressor(DecisionTreeRegressor(max_depth=3),n_estimators=1000,learning_rate=0.5)\n",
    "#model=GradientBoostingRegressor(max_depth=3,n_estimators=100,learning_rate=0.5)"
   ]
  },
  {
   "cell_type": "code",
   "execution_count": 7,
   "metadata": {},
   "outputs": [],
   "source": [
    "model1.fit(X_train,Y1_train)\n",
    "model2.fit(X_train,Y2_train)\n",
    "\n",
    "Y1_pred=model1.predict(X_test)\n",
    "Y2_pred=model2.predict(X_test)\n",
    "\n",
    "Errors1=Y1_test-Y1_pred\n",
    "Errors2=Y2_test-Y2_pred"
   ]
  },
  {
   "cell_type": "code",
   "execution_count": 8,
   "metadata": {},
   "outputs": [
    {
     "name": "stdout",
     "output_type": "stream",
     "text": [
      "1.0495358415945322 1.3135040632920165\n"
     ]
    }
   ],
   "source": [
    "MSE1=np.sum(np.square(Errors1))/(2*len(Y1_test))\n",
    "MSE2=np.sum(np.square(Errors2))/(2*len(Y2_test))\n",
    "print(MSE1, MSE2)"
   ]
  },
  {
   "cell_type": "code",
   "execution_count": 9,
   "metadata": {},
   "outputs": [
    {
     "name": "stdout",
     "output_type": "stream",
     "text": [
      "-4.084606176920721 -2.845955306543037\n"
     ]
    }
   ],
   "source": [
    "print(model1.score(X_test,Y1_test,),model2.score(X_test,Y2_test))"
   ]
  },
  {
   "cell_type": "code",
   "execution_count": 10,
   "metadata": {},
   "outputs": [
    {
     "name": "stdout",
     "output_type": "stream",
     "text": [
      "0.0033558882676698928 0.014450640436531834\n"
     ]
    }
   ],
   "source": [
    "Y1_pred_train=model1.predict(X_train)\n",
    "Y2_pred_train=model2.predict(X_train)\n",
    "Errors3=Y1_pred_train-Y1_train\n",
    "Errors4=Y2_pred_train-Y2_train\n",
    "MSE3=np.sum(np.square(Errors3))/(2*len(Y1_train))\n",
    "MSE4=np.sum(np.square(Errors4))/(2*len(Y2_train))\n",
    "print(MSE3, MSE4)"
   ]
  },
  {
   "cell_type": "code",
   "execution_count": 11,
   "metadata": {},
   "outputs": [
    {
     "name": "stdout",
     "output_type": "stream",
     "text": [
      "0.9933236102631607 0.9465698606627166\n"
     ]
    }
   ],
   "source": [
    "print(model1.score(X_train,Y1_train,),model2.score(X_train,Y2_train))"
   ]
  },
  {
   "cell_type": "code",
   "execution_count": 12,
   "metadata": {},
   "outputs": [
    {
     "name": "stdout",
     "output_type": "stream",
     "text": [
      "0.007146224188857885\n",
      "0.9858748621407473\n"
     ]
    }
   ],
   "source": [
    "prob1=pd.read_csv(\"C:/Users/maple/Desktop/제조공정 데이터_수정.csv\",engine='python')\n",
    "\n",
    "X_train,X_test,Y_train,Y_test=train_test_split(prob1.iloc[:,1:-2],prob1.iloc[:,-2],test_size=0.2)\n",
    "\n",
    "model= RandomForestRegressor(n_estimators=50,min_samples_leaf=10,max_depth=10)\n",
    "scaler=StandardScaler()\n",
    "X_train=scaler.fit_transform(X_train)\n",
    "X_test=scaler.fit_transform(X_test)\n",
    "\n",
    "model.fit(X_train,Y_train)\n",
    "\n",
    "Y_pred=model.predict(X_test)\n",
    "\n",
    "Errors=Y_test-Y_pred\n",
    "\n",
    "MSE=np.sum(np.square(Errors))/(2*len(Y_test))\n",
    "print(MSE)\n",
    "print(model.score(X_test,Y_test))"
   ]
  },
  {
   "cell_type": "code",
   "execution_count": 13,
   "metadata": {},
   "outputs": [
    {
     "name": "stdout",
     "output_type": "stream",
     "text": [
      "0.02043621515638601\n",
      "0.9555255107530457\n"
     ]
    }
   ],
   "source": [
    "prob1=pd.read_csv(\"C:/Users/maple/Desktop/제조공정 데이터_수정.csv\",engine='python')\n",
    "\n",
    "X_train,X_test,Y_train,Y_test=train_test_split(prob1.iloc[:,1:-2],prob1.iloc[:,-1],test_size=0.2)\n",
    "\n",
    "model = RandomForestRegressor(n_estimators=50,min_samples_leaf=10,max_depth=10)\n",
    "scaler=StandardScaler()\n",
    "X_train=scaler.fit_transform(X_train)\n",
    "X_test=scaler.fit_transform(X_test)\n",
    "\n",
    "model.fit(X_train,Y_train)\n",
    "\n",
    "Y_pred=model.predict(X_test)\n",
    "\n",
    "Errors=Y_test-Y_pred\n",
    "\n",
    "MSE=np.sum(np.square(Errors))/(2*len(Y_test))\n",
    "print(MSE)\n",
    "print(model.score(X_test,Y_test))"
   ]
  },
  {
   "cell_type": "code",
   "execution_count": null,
   "metadata": {},
   "outputs": [],
   "source": []
  }
 ],
 "metadata": {
  "kernelspec": {
   "display_name": "Python 3",
   "language": "python",
   "name": "python3"
  },
  "language_info": {
   "codemirror_mode": {
    "name": "ipython",
    "version": 3
   },
   "file_extension": ".py",
   "mimetype": "text/x-python",
   "name": "python",
   "nbconvert_exporter": "python",
   "pygments_lexer": "ipython3",
   "version": "3.6.5"
  }
 },
 "nbformat": 4,
 "nbformat_minor": 2
}
