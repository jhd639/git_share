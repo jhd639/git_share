{
 "cells": [
  {
   "cell_type": "code",
   "execution_count": 84,
   "metadata": {},
   "outputs": [],
   "source": [
    "import numpy as np\n",
    "import pandas as pd\n",
    "from sklearn import preprocessing\n",
    "from sklearn.linear_model import LinearRegression\n",
    "from sklearn.preprocessing import Imputer\n",
    "from sklearn.pipeline import Pipeline\n",
    "from sklearn.preprocessing import StandardScaler\n",
    "from sklearn.preprocessing import MinMaxScaler\n",
    "from sklearn.linear_model import Ridge\n",
    "from sklearn.model_selection import train_test_split\n",
    "from sklearn.model_selection import KFold"
   ]
  },
  {
   "cell_type": "code",
   "execution_count": 85,
   "metadata": {},
   "outputs": [],
   "source": [
    "prob1=pd.read_csv(\"C:/Users/maple/Desktop/제조공정 데이터_수정.csv\",engine='python')"
   ]
  },
  {
   "cell_type": "code",
   "execution_count": 56,
   "metadata": {},
   "outputs": [],
   "source": [
    "X_train=prob1.iloc[:20000,1:-2]\n",
    "Y1_train=prob1.iloc[:20000,-2]\n",
    "Y2_train=prob1.iloc[:20000,-1]\n",
    "X_test=prob1.iloc[20000:,1:-2]\n",
    "Y1_test=prob1.iloc[20000:,-2]\n",
    "Y2_test=prob1.iloc[20000:,-1]"
   ]
  },
  {
   "cell_type": "code",
   "execution_count": 57,
   "metadata": {},
   "outputs": [],
   "source": [
    "Linear_reg1=LinearRegression()\n",
    "Linear_reg2=LinearRegression()"
   ]
  },
  {
   "cell_type": "code",
   "execution_count": 58,
   "metadata": {},
   "outputs": [],
   "source": [
    "scaler=StandardScaler()\n",
    "X_train=scaler.fit_transform(X_train)\n",
    "X_test=scaler.fit_transform(X_test)\n",
    "\n",
    "from sklearn.decomposition import PCA\n",
    "pca=PCA(n_components=10)\n",
    "X_train=pca.fit_transform(X_train)\n",
    "X_test=pca.fit_transform(X_test)"
   ]
  },
  {
   "cell_type": "code",
   "execution_count": 59,
   "metadata": {},
   "outputs": [
    {
     "data": {
      "text/plain": [
       "LinearRegression(copy_X=True, fit_intercept=True, n_jobs=1, normalize=False)"
      ]
     },
     "execution_count": 59,
     "metadata": {},
     "output_type": "execute_result"
    }
   ],
   "source": [
    "Linear_reg1.fit(X_train,Y1_train)\n",
    "Linear_reg2.fit(X_train,Y2_train)"
   ]
  },
  {
   "cell_type": "code",
   "execution_count": 60,
   "metadata": {},
   "outputs": [
    {
     "name": "stdout",
     "output_type": "stream",
     "text": [
      "[-0.27515859  0.01514428 -0.10649087  0.07487173 -0.02873324  0.06947665\n",
      "  0.20172381 -0.0890271  -0.15312024 -0.2413571 ] [-0.19261695 -0.04010226  0.03044516  0.02315397  0.01051331 -0.02698691\n",
      " -0.05451244 -0.16307592  0.02445069 -0.0782416 ]\n"
     ]
    }
   ],
   "source": [
    "print(Linear_reg1.coef_,Linear_reg2.coef_)"
   ]
  },
  {
   "cell_type": "code",
   "execution_count": 61,
   "metadata": {},
   "outputs": [],
   "source": [
    "Y1_pred=Linear_reg1.predict(X_test)\n",
    "Y2_pred=Linear_reg2.predict(X_test)"
   ]
  },
  {
   "cell_type": "code",
   "execution_count": 62,
   "metadata": {},
   "outputs": [],
   "source": [
    "Errors1=Y1_test-Y1_pred\n",
    "Errors2=Y2_test-Y2_pred"
   ]
  },
  {
   "cell_type": "code",
   "execution_count": 63,
   "metadata": {},
   "outputs": [
    {
     "name": "stdout",
     "output_type": "stream",
     "text": [
      "0.6269038587525868 2.1032702987127636\n"
     ]
    }
   ],
   "source": [
    "MSE1=np.sum(np.square(Errors1))/(2*len(Y1_test))\n",
    "MSE2=np.sum(np.square(Errors2))/(2*len(Y2_test))\n",
    "print(MSE1, MSE2)"
   ]
  },
  {
   "cell_type": "code",
   "execution_count": 64,
   "metadata": {},
   "outputs": [
    {
     "name": "stdout",
     "output_type": "stream",
     "text": [
      "-2.037113270668359 -5.158400108908044\n"
     ]
    }
   ],
   "source": [
    "print(Linear_reg1.score(X_test,Y1_test,),Linear_reg2.score(X_test,Y2_test))"
   ]
  },
  {
   "cell_type": "code",
   "execution_count": 67,
   "metadata": {},
   "outputs": [
    {
     "name": "stdout",
     "output_type": "stream",
     "text": [
      "0.06321504345572974 0.06738623043989383\n"
     ]
    }
   ],
   "source": [
    "Y1_pred_train=Linear_reg1.predict(X_train)\n",
    "Y2_pred_train=Linear_reg2.predict(X_train)\n",
    "Errors3=Y1_pred_train-Y1_train\n",
    "Errors4=Y2_pred_train-Y2_train\n",
    "MSE3=np.sum(np.square(Errors3))/(2*len(Y1_train))\n",
    "MSE4=np.sum(np.square(Errors4))/(2*len(Y2_train))\n",
    "print(MSE3, MSE4)"
   ]
  },
  {
   "cell_type": "code",
   "execution_count": 66,
   "metadata": {},
   "outputs": [
    {
     "name": "stdout",
     "output_type": "stream",
     "text": [
      "0.8742364960694216 0.7508445596144161\n"
     ]
    }
   ],
   "source": [
    "print(Linear_reg1.score(X_train,Y1_train,),Linear_reg2.score(X_train,Y2_train))"
   ]
  },
  {
   "cell_type": "code",
   "execution_count": null,
   "metadata": {},
   "outputs": [],
   "source": [
    "#########새로운 Train, Test Set########### "
   ]
  },
  {
   "cell_type": "code",
   "execution_count": 93,
   "metadata": {},
   "outputs": [],
   "source": [
    "prob1=pd.read_csv(\"C:/Users/maple/Desktop/제조공정 데이터_수정.csv\",engine='python')"
   ]
  },
  {
   "cell_type": "code",
   "execution_count": 94,
   "metadata": {},
   "outputs": [],
   "source": [
    "X_train,X_test,Y_train,Y_test=train_test_split(prob1.iloc[:,1:-2],prob1.iloc[:,-1],test_size=0.2)"
   ]
  },
  {
   "cell_type": "code",
   "execution_count": 95,
   "metadata": {},
   "outputs": [
    {
     "name": "stdout",
     "output_type": "stream",
     "text": [
      "0.09333571806062306\n",
      "0.7938258212855296\n"
     ]
    }
   ],
   "source": [
    "Linear_reg=LinearRegression()\n",
    "scaler=StandardScaler()\n",
    "X_train=scaler.fit_transform(X_train)\n",
    "X_test=scaler.fit_transform(X_test)\n",
    "\n",
    "from sklearn.decomposition import PCA\n",
    "pca=PCA(n_components=10)\n",
    "X_train=pca.fit_transform(X_train)\n",
    "X_test=pca.fit_transform(X_test)\n",
    "\n",
    "Linear_reg.fit(X_train,Y_train)\n",
    "\n",
    "Y_pred=Linear_reg.predict(X_test)\n",
    "\n",
    "Errors=Y_test-Y_pred\n",
    "\n",
    "MSE=np.sum(np.square(Errors))/(2*len(Y_test))\n",
    "print(MSE)\n",
    "print(Linear_reg.score(X_test,Y_test))"
   ]
  },
  {
   "cell_type": "code",
   "execution_count": 96,
   "metadata": {},
   "outputs": [
    {
     "name": "stdout",
     "output_type": "stream",
     "text": [
      "0.07569716293548638\n",
      "0.8492412922969811\n"
     ]
    }
   ],
   "source": [
    "prob1=pd.read_csv(\"C:/Users/maple/Desktop/제조공정 데이터_수정.csv\",engine='python')\n",
    "\n",
    "X_train,X_test,Y_train,Y_test=train_test_split(prob1.iloc[:,1:-2],prob1.iloc[:,-2],test_size=0.2)\n",
    "\n",
    "Linear_reg=LinearRegression()\n",
    "scaler=StandardScaler()\n",
    "X_train=scaler.fit_transform(X_train)\n",
    "X_test=scaler.fit_transform(X_test)\n",
    "\n",
    "from sklearn.decomposition import PCA\n",
    "pca=PCA(n_components=10)\n",
    "X_train=pca.fit_transform(X_train)\n",
    "X_test=pca.fit_transform(X_test)\n",
    "\n",
    "Linear_reg.fit(X_train,Y_train)\n",
    "\n",
    "Y_pred=Linear_reg.predict(X_test)\n",
    "\n",
    "Errors=Y_test-Y_pred\n",
    "\n",
    "MSE=np.sum(np.square(Errors))/(2*len(Y_test))\n",
    "print(MSE)\n",
    "print(Linear_reg.score(X_test,Y_test))"
   ]
  },
  {
   "cell_type": "code",
   "execution_count": null,
   "metadata": {},
   "outputs": [],
   "source": []
  }
 ],
 "metadata": {
  "kernelspec": {
   "display_name": "Python 3",
   "language": "python",
   "name": "python3"
  },
  "language_info": {
   "codemirror_mode": {
    "name": "ipython",
    "version": 3
   },
   "file_extension": ".py",
   "mimetype": "text/x-python",
   "name": "python",
   "nbconvert_exporter": "python",
   "pygments_lexer": "ipython3",
   "version": "3.6.5"
  }
 },
 "nbformat": 4,
 "nbformat_minor": 2
}
