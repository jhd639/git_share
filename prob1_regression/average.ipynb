{
 "cells": [
  {
   "cell_type": "code",
   "execution_count": 56,
   "metadata": {},
   "outputs": [],
   "source": [
    "import numpy as np\n",
    "import pandas as pd\n",
    "from sklearn import preprocessing\n",
    "from sklearn.linear_model import LinearRegression\n",
    "from sklearn.preprocessing import Imputer\n",
    "from sklearn.pipeline import Pipeline\n",
    "from sklearn.preprocessing import StandardScaler\n",
    "from sklearn.preprocessing import MinMaxScaler\n",
    "from sklearn.model_selection import train_test_split\n",
    "from sklearn.linear_model import Ridge\n",
    "from sklearn.metrics import r2_score\n",
    "prob1=pd.read_csv(\"C:/Users/maple/Desktop/제조공정 데이터_수정.csv\",engine='python')"
   ]
  },
  {
   "cell_type": "code",
   "execution_count": 57,
   "metadata": {},
   "outputs": [],
   "source": [
    "from sklearn.decomposition import PCA"
   ]
  },
  {
   "cell_type": "code",
   "execution_count": 58,
   "metadata": {},
   "outputs": [],
   "source": [
    "X_train=prob1.iloc[:20000,1:-2]\n",
    "Y1_train=prob1.iloc[:20000,-2]\n",
    "Y2_train=prob1.iloc[:20000,-1]\n",
    "X_test=prob1.iloc[20000:,1:-2]\n",
    "Y1_test=prob1.iloc[20000:,-2]\n",
    "Y2_test=prob1.iloc[20000:,-1]"
   ]
  },
  {
   "cell_type": "code",
   "execution_count": 59,
   "metadata": {},
   "outputs": [],
   "source": [
    "from sklearn.tree import DecisionTreeRegressor\n",
    "from sklearn.ensemble import RandomForestRegressor,ExtraTreesRegressor,AdaBoostRegressor,GradientBoostingRegressor"
   ]
  },
  {
   "cell_type": "code",
   "execution_count": 60,
   "metadata": {},
   "outputs": [],
   "source": [
    "#scaler=StandardScaler()\n",
    "#X_train=scaler.fit_transform(X_train)\n",
    "#X_test=scaler.fit_transform(X_test)\n",
    "\n",
    "#pca=PCA(n_components=10)\n",
    "#X_train=pca.fit_transform(X_train)\n",
    "#X_test=pca.fit_transform(X_test)"
   ]
  },
  {
   "cell_type": "code",
   "execution_count": 61,
   "metadata": {},
   "outputs": [],
   "source": [
    "#model1 = DecisionTreeRegressor(random_state=1,min_samples_leaf=2,max_depth=8)\n",
    "#model2 = DecisionTreeRegressor(random_state=1,min_samples_leaf=2,max_depth=8)\n",
    "#model = RandomForestRegressor(n_estimators=40,min_samples_leaf=3,max_depth=3)\n",
    "#model1 = ExtraTreesRegressor(n_estimators=100,min_samples_leaf=6,max_depth=3)\n",
    "#model2 = ExtraTreesRegressor(n_estimators=100,min_samples_leaf=6,max_depth=3)\n",
    "#model=AdaBoostRegressor(DecisionTreeRegressor(max_depth=3),n_estimators=1000,learning_rate=0.5)\n",
    "#model1=GradientBoostingRegressor(n_estimators=100,learning_rate=0.5,random_state=42)\n",
    "#model2=GradientBoostingRegressor(n_estimators=100,learning_rate=0.5,random_state=42)"
   ]
  },
  {
   "cell_type": "code",
   "execution_count": 62,
   "metadata": {},
   "outputs": [],
   "source": [
    "#model1.fit(X_train,Y1_train)\n",
    "#model2.fit(X_train,Y2_train)\n",
    "\n",
    "#Y1_pred=model1.predict(X_test)\n",
    "#Y2_pred=model2.predict(X_test)\n",
    "\n",
    "Errors1=Y1_test-np.average(Y1_train)\n",
    "Errors2=Y2_test-np.average(Y2_train)\n",
    "Y1_train_data=np.zeros(4206)-np.average(Y1_train)\n",
    "Y2_train_data=np.zeros(4206)-np.average(Y2_train)\n",
    "#Y1_train_data=pd.DataFrame(Y1_train_data)\n",
    "#Y2_train_data=pd.DataFrame(Y2_train_data)"
   ]
  },
  {
   "cell_type": "code",
   "execution_count": 63,
   "metadata": {},
   "outputs": [
    {
     "name": "stdout",
     "output_type": "stream",
     "text": [
      "0.5977559029479713 1.513755018182251\n"
     ]
    }
   ],
   "source": [
    "MSE1=np.sum(np.square(Errors1))/(2*len(Y1_test))\n",
    "MSE2=np.sum(np.square(Errors2))/(2*len(Y2_test))\n",
    "print(MSE1, MSE2)"
   ]
  },
  {
   "cell_type": "code",
   "execution_count": 64,
   "metadata": {},
   "outputs": [
    {
     "name": "stdout",
     "output_type": "stream",
     "text": [
      "-0.5259871545306791 -1.3641712701163304\n"
     ]
    }
   ],
   "source": [
    "print(r2_score(Y1_test,Y1_train_data),r2_score(Y2_test,Y1_train_data))"
   ]
  },
  {
   "cell_type": "code",
   "execution_count": 70,
   "metadata": {},
   "outputs": [
    {
     "name": "stdout",
     "output_type": "stream",
     "text": [
      "0.5042891470066239\n",
      "-0.012294572457717479\n"
     ]
    }
   ],
   "source": [
    "prob1=pd.read_csv(\"C:/Users/maple/Desktop/제조공정 데이터_수정.csv\",engine='python')\n",
    "\n",
    "X_train,X_test,Y_train,Y_test=train_test_split(prob1.iloc[:,1:-2],prob1.iloc[:,-2],test_size=0.2)\n",
    "\n",
    "Errors=Y_test-np.average(Y_train)\n",
    "Y_train_data=np.zeros(4842)-np.average(Y_train)\n",
    "\n",
    "MSE=np.sum(np.square(Errors))/(2*len(Y_test))\n",
    "print(MSE)\n",
    "print(r2_score(Y_test,Y_train_data))"
   ]
  },
  {
   "cell_type": "code",
   "execution_count": 71,
   "metadata": {},
   "outputs": [
    {
     "name": "stdout",
     "output_type": "stream",
     "text": [
      "0.463171436035313\n",
      "-0.03165106461347178\n"
     ]
    }
   ],
   "source": [
    "prob1=pd.read_csv(\"C:/Users/maple/Desktop/제조공정 데이터_수정.csv\",engine='python')\n",
    "\n",
    "X_train,X_test,Y_train,Y_test=train_test_split(prob1.iloc[:,1:-2],prob1.iloc[:,-1],test_size=0.2)\n",
    "\n",
    "Errors=Y_test-np.average(Y_train)\n",
    "Y_train_data=np.zeros(4842)-np.average(Y_train)\n",
    "\n",
    "MSE=np.sum(np.square(Errors))/(2*len(Y_test))\n",
    "print(MSE)\n",
    "print(r2_score(Y_test,Y_train_data))"
   ]
  },
  {
   "cell_type": "code",
   "execution_count": null,
   "metadata": {},
   "outputs": [],
   "source": []
  }
 ],
 "metadata": {
  "kernelspec": {
   "display_name": "Python 3",
   "language": "python",
   "name": "python3"
  },
  "language_info": {
   "codemirror_mode": {
    "name": "ipython",
    "version": 3
   },
   "file_extension": ".py",
   "mimetype": "text/x-python",
   "name": "python",
   "nbconvert_exporter": "python",
   "pygments_lexer": "ipython3",
   "version": "3.6.5"
  }
 },
 "nbformat": 4,
 "nbformat_minor": 2
}
