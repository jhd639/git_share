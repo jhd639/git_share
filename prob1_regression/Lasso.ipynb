{
 "cells": [
  {
   "cell_type": "code",
   "execution_count": 47,
   "metadata": {},
   "outputs": [],
   "source": [
    "import numpy as np\n",
    "import pandas as pd\n",
    "from sklearn import preprocessing\n",
    "from sklearn.linear_model import LinearRegression\n",
    "from sklearn.preprocessing import Imputer\n",
    "from sklearn.pipeline import Pipeline\n",
    "from sklearn.preprocessing import StandardScaler\n",
    "from sklearn.preprocessing import MinMaxScaler\n",
    "from sklearn.linear_model import Lasso\n",
    "from sklearn.model_selection import train_test_split\n",
    "from sklearn.model_selection import KFold"
   ]
  },
  {
   "cell_type": "code",
   "execution_count": 48,
   "metadata": {},
   "outputs": [],
   "source": [
    "prob1=pd.read_csv(\"C:/Users/maple/Desktop/제조공정 데이터_수정.csv\",engine='python')"
   ]
  },
  {
   "cell_type": "code",
   "execution_count": 49,
   "metadata": {},
   "outputs": [],
   "source": [
    "X_train=prob1.iloc[:20000,1:-2]\n",
    "Y1_train=prob1.iloc[:20000,-2]\n",
    "Y2_train=prob1.iloc[:20000,-1]\n",
    "X_test=prob1.iloc[20000:,1:-2]\n",
    "Y1_test=prob1.iloc[20000:,-2]\n",
    "Y2_test=prob1.iloc[20000:,-1]"
   ]
  },
  {
   "cell_type": "code",
   "execution_count": 50,
   "metadata": {},
   "outputs": [],
   "source": [
    "Lasso_reg1=Lasso(alpha=0.1)\n",
    "Lasso_reg2=Lasso(alpha=0.1)"
   ]
  },
  {
   "cell_type": "code",
   "execution_count": 51,
   "metadata": {},
   "outputs": [],
   "source": [
    "scaler=StandardScaler()\n",
    "X_train=scaler.fit_transform(X_train)\n",
    "X_test=scaler.fit_transform(X_test)\n",
    "\n",
    "from sklearn.decomposition import PCA\n",
    "pca=PCA(n_components=10)\n",
    "X_train=pca.fit_transform(X_train)\n",
    "X_test=pca.fit_transform(X_test)"
   ]
  },
  {
   "cell_type": "code",
   "execution_count": 52,
   "metadata": {},
   "outputs": [
    {
     "data": {
      "text/plain": [
       "Lasso(alpha=0.1, copy_X=True, fit_intercept=True, max_iter=1000,\n",
       "   normalize=False, positive=False, precompute=False, random_state=None,\n",
       "   selection='cyclic', tol=0.0001, warm_start=False)"
      ]
     },
     "execution_count": 52,
     "metadata": {},
     "output_type": "execute_result"
    }
   ],
   "source": [
    "Lasso_reg1.fit(X_train,Y1_train)\n",
    "Lasso_reg2.fit(X_train,Y2_train)"
   ]
  },
  {
   "cell_type": "code",
   "execution_count": 53,
   "metadata": {},
   "outputs": [
    {
     "name": "stdout",
     "output_type": "stream",
     "text": [
      "[-0.26519584  0.         -0.0706301   0.00629951 -0.          0.\n",
      "  0.07547235 -0.         -0.         -0.        ] [-0.1826542  -0.01580178  0.          0.          0.         -0.\n",
      " -0.         -0.01309781  0.         -0.        ]\n"
     ]
    }
   ],
   "source": [
    "print(Lasso_reg1.coef_,Lasso_reg2.coef_)"
   ]
  },
  {
   "cell_type": "code",
   "execution_count": 54,
   "metadata": {},
   "outputs": [],
   "source": [
    "Y1_pred=Lasso_reg1.predict(X_test)\n",
    "Y2_pred=Lasso_reg2.predict(X_test)"
   ]
  },
  {
   "cell_type": "code",
   "execution_count": 55,
   "metadata": {},
   "outputs": [],
   "source": [
    "Errors1=Y1_test-Y1_pred\n",
    "Errors2=Y2_test-Y2_pred"
   ]
  },
  {
   "cell_type": "code",
   "execution_count": 56,
   "metadata": {},
   "outputs": [
    {
     "name": "stdout",
     "output_type": "stream",
     "text": [
      "0.5837070204991508 2.04802374800466\n"
     ]
    }
   ],
   "source": [
    "MSE1=np.sum(np.square(Errors1))/(2*len(Y1_test))\n",
    "MSE2=np.sum(np.square(Errors2))/(2*len(Y2_test))\n",
    "print(MSE1, MSE2)"
   ]
  },
  {
   "cell_type": "code",
   "execution_count": 57,
   "metadata": {},
   "outputs": [
    {
     "name": "stdout",
     "output_type": "stream",
     "text": [
      "-1.8278408457522413 -4.99663756031607\n"
     ]
    }
   ],
   "source": [
    "print(Lasso_reg1.score(X_test,Y1_test,),Lasso_reg2.score(X_test,Y2_test))"
   ]
  },
  {
   "cell_type": "code",
   "execution_count": 58,
   "metadata": {},
   "outputs": [
    {
     "name": "stdout",
     "output_type": "stream",
     "text": [
      "0.09869104871961017 0.08129574178655809\n"
     ]
    }
   ],
   "source": [
    "Y1_pred_train=Lasso_reg1.predict(X_train)\n",
    "Y2_pred_train=Lasso_reg2.predict(X_train)\n",
    "Errors3=Y1_pred_train-Y1_train\n",
    "Errors4=Y2_pred_train-Y2_train\n",
    "MSE3=np.sum(np.square(Errors3))/(2*len(Y1_train))\n",
    "MSE4=np.sum(np.square(Errors4))/(2*len(Y2_train))\n",
    "print(MSE3, MSE4)"
   ]
  },
  {
   "cell_type": "code",
   "execution_count": 59,
   "metadata": {},
   "outputs": [
    {
     "name": "stdout",
     "output_type": "stream",
     "text": [
      "0.8036585689883502 0.6994152037578419\n"
     ]
    }
   ],
   "source": [
    "print(Lasso_reg1.score(X_train,Y1_train,),Lasso_reg2.score(X_train,Y2_train))"
   ]
  },
  {
   "cell_type": "code",
   "execution_count": 60,
   "metadata": {},
   "outputs": [
    {
     "name": "stdout",
     "output_type": "stream",
     "text": [
      "0.10713388031883322\n",
      "0.785371816724646\n"
     ]
    }
   ],
   "source": [
    "prob1=pd.read_csv(\"C:/Users/maple/Desktop/제조공정 데이터_수정.csv\",engine='python')\n",
    "\n",
    "X_train,X_test,Y_train,Y_test=train_test_split(prob1.iloc[:,1:-2],prob1.iloc[:,-2],test_size=0.2)\n",
    "\n",
    "Lasso_reg=Lasso(alpha=0.1,random_state=2)\n",
    "scaler=StandardScaler()\n",
    "X_train=scaler.fit_transform(X_train)\n",
    "X_test=scaler.fit_transform(X_test)\n",
    "\n",
    "from sklearn.decomposition import PCA\n",
    "pca=PCA(n_components=10)\n",
    "X_train=pca.fit_transform(X_train)\n",
    "X_test=pca.fit_transform(X_test)\n",
    "\n",
    "Lasso_reg.fit(X_train,Y_train)\n",
    "\n",
    "Y_pred=Lasso_reg.predict(X_test)\n",
    "\n",
    "Errors=Y_test-Y_pred\n",
    "\n",
    "MSE=np.sum(np.square(Errors))/(2*len(Y_test))\n",
    "print(MSE)\n",
    "print(Lasso_reg.score(X_test,Y_test))"
   ]
  },
  {
   "cell_type": "code",
   "execution_count": 61,
   "metadata": {},
   "outputs": [
    {
     "name": "stdout",
     "output_type": "stream",
     "text": [
      "0.11443162013936471\n",
      "0.7442539347857368\n"
     ]
    }
   ],
   "source": [
    "prob1=pd.read_csv(\"C:/Users/maple/Desktop/제조공정 데이터_수정.csv\",engine='python')\n",
    "\n",
    "X_train,X_test,Y_train,Y_test=train_test_split(prob1.iloc[:,1:-2],prob1.iloc[:,-1],test_size=0.2)\n",
    "\n",
    "Lasso_reg=Lasso(alpha=0.1,random_state=3)\n",
    "scaler=StandardScaler()\n",
    "X_train=scaler.fit_transform(X_train)\n",
    "X_test=scaler.fit_transform(X_test)\n",
    "\n",
    "from sklearn.decomposition import PCA\n",
    "pca=PCA(n_components=1)\n",
    "X_train=pca.fit_transform(X_train)\n",
    "X_test=pca.fit_transform(X_test)\n",
    "\n",
    "Lasso_reg.fit(X_train,Y_train)\n",
    "\n",
    "Y_pred=Lasso_reg.predict(X_test)\n",
    "\n",
    "Errors=Y_test-Y_pred\n",
    "\n",
    "MSE=np.sum(np.square(Errors))/(2*len(Y_test))\n",
    "print(MSE)\n",
    "print(Lasso_reg.score(X_test,Y_test))"
   ]
  },
  {
   "cell_type": "code",
   "execution_count": null,
   "metadata": {},
   "outputs": [],
   "source": []
  }
 ],
 "metadata": {
  "kernelspec": {
   "display_name": "Python 3",
   "language": "python",
   "name": "python3"
  },
  "language_info": {
   "codemirror_mode": {
    "name": "ipython",
    "version": 3
   },
   "file_extension": ".py",
   "mimetype": "text/x-python",
   "name": "python",
   "nbconvert_exporter": "python",
   "pygments_lexer": "ipython3",
   "version": "3.6.5"
  }
 },
 "nbformat": 4,
 "nbformat_minor": 2
}
