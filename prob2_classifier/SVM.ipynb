{
 "cells": [
  {
   "cell_type": "code",
   "execution_count": 382,
   "metadata": {},
   "outputs": [],
   "source": [
    "import numpy as np\n",
    "import pandas as pd\n",
    "from sklearn.linear_model import Logistic\n",
    "from sklearn.svm import SVC\n",
    "from sklearn.tree import DecisionTreeClassifier\n",
    "from sklearn.model_selection import cross_val_score\n",
    "from sklearn.ensemble import RandomForestClassifier,ExtraTreesClassifier,AdaBoostClassifier,GradientBoostingClassifier\n",
    "from sklearn.model_selection import GridSearchCV\n",
    "from sklearn.decomposition import PCA"
   ]
  },
  {
   "cell_type": "code",
   "execution_count": 391,
   "metadata": {},
   "outputs": [],
   "source": [
    "from sklearn.model_selection import KFold\n",
    "kf = KFold(n_splits=5,shuffle=True)"
   ]
  },
  {
   "cell_type": "code",
   "execution_count": 392,
   "metadata": {},
   "outputs": [],
   "source": [
    "semi=pd.read_csv(\"C:/Users/maple/Desktop/semi.csv\")"
   ]
  },
  {
   "cell_type": "code",
   "execution_count": 393,
   "metadata": {},
   "outputs": [],
   "source": [
    "X=semi.iloc[:,:474]\n",
    "Y=semi.iloc[:,-1]"
   ]
  },
  {
   "cell_type": "code",
   "execution_count": 394,
   "metadata": {},
   "outputs": [],
   "source": [
    "#model = DecisionTreeClassifier(random_state=1,min_samples_leaf=10,max_depth=10)\n",
    "#model = RandomForestClassifier(n_estimators=40,min_samples_leaf=3,max_depth=3)\n",
    "#model = ExtraTreesClassifier(n_estimators=500,min_samples_leaf=3,max_depth=3)\n",
    "model=SVC(kernel='linear',C=0.1,random_state=42)#kernel='linear',C=1.0,random_state=42\n",
    "#model=AdaBoostClassifier(DecisionTreeRegressor(max_depth=3),algorithm='SAMME',n_estimators=100,learning_rate=0.5)\n",
    "#model=GradientBoostingClassifier(max_depth=3,n_estimators=1000,learning_rate=0.5)"
   ]
  },
  {
   "cell_type": "code",
   "execution_count": 395,
   "metadata": {},
   "outputs": [],
   "source": [
    "pca=PCA(n_components=15)\n",
    "X_proj=pca.fit_transform(X)"
   ]
  },
  {
   "cell_type": "code",
   "execution_count": 396,
   "metadata": {},
   "outputs": [],
   "source": [
    "#model.fit(X,Y)"
   ]
  },
  {
   "cell_type": "code",
   "execution_count": 397,
   "metadata": {},
   "outputs": [],
   "source": [
    "#param_grid=[{'C':[0.5,0.3,0.8]}]\n",
    "#grid_search=GridSearchCV(model,param_grid,cv=5,scoring='accuracy',return_train_score=True)\n",
    "#grid_search.fit(X,Y)\n",
    "#grid_search.best_params_"
   ]
  },
  {
   "cell_type": "code",
   "execution_count": 416,
   "metadata": {},
   "outputs": [
    {
     "name": "stdout",
     "output_type": "stream",
     "text": [
      "cross validation score: [0.8627451  0.80392157 0.82352941 0.8627451  0.82      ]\n"
     ]
    }
   ],
   "source": [
    "accuracy = cross_val_score(model, X, Y, cv=kf,scoring='accuracy')\n",
    "print('cross validation score: {}'.format(accuracy))"
   ]
  },
  {
   "cell_type": "code",
   "execution_count": 407,
   "metadata": {},
   "outputs": [
    {
     "name": "stdout",
     "output_type": "stream",
     "text": [
      "cross validation score: [0.70833333 0.76923077 0.76190476 0.65217391 0.69565217]\n"
     ]
    }
   ],
   "source": [
    "precision = cross_val_score(model, X, Y, cv=kf,scoring='precision')\n",
    "print('cross validation precision: {}'.format(scores))"
   ]
  },
  {
   "cell_type": "code",
   "execution_count": 408,
   "metadata": {},
   "outputs": [
    {
     "name": "stdout",
     "output_type": "stream",
     "text": [
      "cross validation score: [0.70833333 0.76923077 0.76190476 0.65217391 0.69565217]\n"
     ]
    }
   ],
   "source": [
    "recall = cross_val_score(model, X, Y, cv=kf,scoring='recall')\n",
    "print('cross validation recall: {}'.format(scores))"
   ]
  },
  {
   "cell_type": "code",
   "execution_count": 417,
   "metadata": {},
   "outputs": [
    {
     "data": {
      "text/plain": [
       "0.8345882352941176"
      ]
     },
     "execution_count": 417,
     "metadata": {},
     "output_type": "execute_result"
    }
   ],
   "source": [
    "np.average(accuracy)"
   ]
  },
  {
   "cell_type": "code",
   "execution_count": 411,
   "metadata": {},
   "outputs": [
    {
     "data": {
      "text/plain": [
       "0.11068043068043065"
      ]
     },
     "execution_count": 411,
     "metadata": {},
     "output_type": "execute_result"
    }
   ],
   "source": [
    "1-np.average(precision)"
   ]
  },
  {
   "cell_type": "code",
   "execution_count": 412,
   "metadata": {},
   "outputs": [
    {
     "data": {
      "text/plain": [
       "0.2694483294483294"
      ]
     },
     "execution_count": 412,
     "metadata": {},
     "output_type": "execute_result"
    }
   ],
   "source": [
    "1-np.average(recall)"
   ]
  },
  {
   "cell_type": "code",
   "execution_count": null,
   "metadata": {},
   "outputs": [],
   "source": []
  }
 ],
 "metadata": {
  "kernelspec": {
   "display_name": "Python 3",
   "language": "python",
   "name": "python3"
  },
  "language_info": {
   "codemirror_mode": {
    "name": "ipython",
    "version": 3
   },
   "file_extension": ".py",
   "mimetype": "text/x-python",
   "name": "python",
   "nbconvert_exporter": "python",
   "pygments_lexer": "ipython3",
   "version": "3.6.5"
  }
 },
 "nbformat": 4,
 "nbformat_minor": 2
}
