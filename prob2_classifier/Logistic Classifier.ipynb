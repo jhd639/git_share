{
 "cells": [
  {
   "cell_type": "code",
   "execution_count": null,
   "metadata": {},
   "outputs": [],
   "source": [
    "import numpy as np\n",
    "import pandas as pd\n",
    "from sklearn.linear_model import LogisticRegression\n",
    "from sklearn.svm import SVC\n",
    "from sklearn.tree import DecisionTreeClassifier\n",
    "from sklearn.model_selection import cross_val_score\n",
    "from sklearn.ensemble import RandomForestClassifier,ExtraTreesClassifier,AdaBoostClassifier,GradientBoostingClassifier\n",
    "from sklearn.model_selection import GridSearchCV\n",
    "from sklearn.decomposition import PCA"
   ]
  },
  {
   "cell_type": "code",
   "execution_count": null,
   "metadata": {},
   "outputs": [],
   "source": [
    "from sklearn.model_selection import KFold\n",
    "kf = KFold(n_splits=5,shuffle=True)"
   ]
  },
  {
   "cell_type": "code",
   "execution_count": null,
   "metadata": {},
   "outputs": [],
   "source": [
    "semi=pd.read_csv(\"C:/Users/maple/Desktop/semi.csv\")"
   ]
  },
  {
   "cell_type": "code",
   "execution_count": null,
   "metadata": {},
   "outputs": [],
   "source": [
    "X=semi.iloc[:,:474]\n",
    "Y=semi.iloc[:,-1]"
   ]
  },
  {
   "cell_type": "code",
   "execution_count": null,
   "metadata": {},
   "outputs": [],
   "source": [
    "#model = DecisionTreeClassifier(random_state=1,min_samples_leaf=10,max_depth=10)\n",
    "#model = RandomForestClassifier(n_estimators=40,min_samples_leaf=3,max_depth=3)\n",
    "#model = ExtraTreesClassifier(n_estimators=500,min_samples_leaf=3,max_depth=3)\n",
    "#model=SVC(kernel='linear',C=0.1,random_state=42)#kernel='linear',C=1.0,random_state=42\n",
    "#model=AdaBoostClassifier(DecisionTreeRegressor(max_depth=3),algorithm='SAMME',n_estimators=100,learning_rate=0.5)\n",
    "#model=GradientBoostingClassifier(max_depth=3,n_estimators=1000,learning_rate=0.5)\n",
    "model=LogisticRegression()"
   ]
  },
  {
   "cell_type": "code",
   "execution_count": 197,
   "metadata": {},
   "outputs": [],
   "source": [
    "#pca=PCA(n_components=3)\n",
    "#X_proj=pca.fit_transform(X)"
   ]
  },
  {
   "cell_type": "code",
   "execution_count": 198,
   "metadata": {},
   "outputs": [],
   "source": [
    "#model.fit(X,Y)"
   ]
  },
  {
   "cell_type": "code",
   "execution_count": 199,
   "metadata": {},
   "outputs": [],
   "source": [
    "param_grid=[{'min_samples_leaf':[1,3,5,7,9,15,20]},{'max_depth':[1,3,5,7,9,15,20]}]\n",
    "grid_search=GridSearchCV(model,param_grid,cv=5,scoring='accuracy',return_train_score=True)\n",
    "grid_search.fit(X,Y)\n",
    "grid_search.best_params_"
   ]
  },
  {
   "cell_type": "code",
   "execution_count": 200,
   "metadata": {},
   "outputs": [
    {
     "name": "stdout",
     "output_type": "stream",
     "text": [
      "cross validation score: [0.8627451  0.8627451  0.80392157 0.80392157 0.84      ]\n"
     ]
    }
   ],
   "source": [
    "accuracy = cross_val_score(model, X, Y, cv=kf,scoring='accuracy')\n",
    "print('cross validation score: {}'.format(accuracy))"
   ]
  },
  {
   "cell_type": "code",
   "execution_count": 201,
   "metadata": {},
   "outputs": [
    {
     "name": "stdout",
     "output_type": "stream",
     "text": [
      "cross validation precision: [0.75       0.83333333 0.8125     0.75       0.94117647]\n"
     ]
    }
   ],
   "source": [
    "precision = cross_val_score(model, X, Y, cv=kf,scoring='precision')\n",
    "print('cross validation precision: {}'.format(precision))"
   ]
  },
  {
   "cell_type": "code",
   "execution_count": 202,
   "metadata": {},
   "outputs": [
    {
     "name": "stdout",
     "output_type": "stream",
     "text": [
      "cross validation recall: [0.66666667 0.8        0.65       0.625      0.75      ]\n"
     ]
    }
   ],
   "source": [
    "recall = cross_val_score(model, X, Y, cv=kf,scoring='recall')\n",
    "print('cross validation recall: {}'.format(recall))"
   ]
  },
  {
   "cell_type": "code",
   "execution_count": 203,
   "metadata": {},
   "outputs": [
    {
     "data": {
      "text/plain": [
       "0.8346666666666666"
      ]
     },
     "execution_count": 203,
     "metadata": {},
     "output_type": "execute_result"
    }
   ],
   "source": [
    "np.average(accuracy)"
   ]
  },
  {
   "cell_type": "code",
   "execution_count": 204,
   "metadata": {},
   "outputs": [
    {
     "data": {
      "text/plain": [
       "0.1825980392156863"
      ]
     },
     "execution_count": 204,
     "metadata": {},
     "output_type": "execute_result"
    }
   ],
   "source": [
    "1-np.average(precision)"
   ]
  },
  {
   "cell_type": "code",
   "execution_count": 205,
   "metadata": {},
   "outputs": [
    {
     "data": {
      "text/plain": [
       "0.30166666666666664"
      ]
     },
     "execution_count": 205,
     "metadata": {},
     "output_type": "execute_result"
    }
   ],
   "source": [
    "1-np.average(recall)"
   ]
  },
  {
   "cell_type": "code",
   "execution_count": null,
   "metadata": {},
   "outputs": [],
   "source": []
  }
 ],
 "metadata": {
  "kernelspec": {
   "display_name": "Python 3",
   "language": "python",
   "name": "python3"
  },
  "language_info": {
   "codemirror_mode": {
    "name": "ipython",
    "version": 3
   },
   "file_extension": ".py",
   "mimetype": "text/x-python",
   "name": "python",
   "nbconvert_exporter": "python",
   "pygments_lexer": "ipython3",
   "version": "3.6.5"
  }
 },
 "nbformat": 4,
 "nbformat_minor": 2
}
